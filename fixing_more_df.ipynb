{
 "cells": [
  {
   "cell_type": "code",
   "execution_count": 1,
   "metadata": {},
   "outputs": [],
   "source": [
    "import pandas as pd\n",
    "import csv\n",
    "%matplotlib inline\n",
    "import matplotlib.pyplot as plt\n",
    "plt.style.use('seaborn-white')\n",
    "import numpy as np\n",
    "import matplotlib.gridspec as gridspec\n",
    "import sqlite3\n",
    "from re import search\n",
    "import datetime\n",
    "import itertools"
   ]
  },
  {
   "cell_type": "code",
   "execution_count": 2,
   "metadata": {},
   "outputs": [],
   "source": [
    "from numpy import mean\n",
    "from numpy import std\n",
    "from numpy import absolute\n",
    "from pandas import read_csv\n",
    "from sklearn.model_selection import cross_val_score\n",
    "from sklearn.model_selection import RepeatedKFold\n",
    "from sklearn.linear_model import Lasso"
   ]
  },
  {
   "cell_type": "code",
   "execution_count": 3,
   "metadata": {},
   "outputs": [],
   "source": [
    "pd.set_option('display.max_columns', None)"
   ]
  },
  {
   "cell_type": "code",
   "execution_count": 4,
   "metadata": {},
   "outputs": [],
   "source": [
    "file1 = '/Users/jasleensandhu/Downloads/2005-19_Local_Authority_CO2_emissions.csv'"
   ]
  },
  {
   "cell_type": "code",
   "execution_count": 5,
   "metadata": {},
   "outputs": [],
   "source": [
    "avon_df = pd.read_csv('avon_data.csv')"
   ]
  },
  {
   "cell_type": "code",
   "execution_count": 6,
   "metadata": {},
   "outputs": [],
   "source": [
    "avon_df.columns = ['index','Crime_ID', 'Month', 'Reported_by', 'Falls_within', 'Longitude', 'Latitude', \n",
    "                   'Location', 'LSOA_code', 'LSOA_name', 'Crime_type', 'Last_outcome_category', 'Context']"
   ]
  },
  {
   "cell_type": "code",
   "execution_count": 7,
   "metadata": {},
   "outputs": [],
   "source": [
    "avon_df['Month'] = [i.year for i in pd.to_datetime(avon_df['Month'])]"
   ]
  },
  {
   "cell_type": "code",
   "execution_count": 8,
   "metadata": {},
   "outputs": [],
   "source": [
    "### Remove Nan Values\n",
    "avon_df = avon_df.dropna(subset=['LSOA_name'])"
   ]
  },
  {
   "cell_type": "code",
   "execution_count": 9,
   "metadata": {},
   "outputs": [],
   "source": [
    "avon_df['lsoa_name'] = [i[:-5] for i in avon_df['LSOA_name']]"
   ]
  },
  {
   "cell_type": "code",
   "execution_count": 10,
   "metadata": {},
   "outputs": [
    {
     "data": {
      "text/plain": [
       "'Bath and North East Somerset'"
      ]
     },
     "execution_count": 10,
     "metadata": {},
     "output_type": "execute_result"
    }
   ],
   "source": [
    "avon_df['LSOA_name'][4][:-5]"
   ]
  },
  {
   "cell_type": "code",
   "execution_count": 11,
   "metadata": {},
   "outputs": [],
   "source": [
    "df_co2 = pd.read_csv(file1)"
   ]
  },
  {
   "cell_type": "code",
   "execution_count": 12,
   "metadata": {},
   "outputs": [],
   "source": [
    "df_co2 = df_co2[df_co2['Region'] == 'South West']"
   ]
  },
  {
   "cell_type": "code",
   "execution_count": 13,
   "metadata": {},
   "outputs": [],
   "source": [
    "df_co2 = df_co2[['Local Authority', 'Calendar Year', \n",
    "                'LA CO2 Sector', 'Territorial emissions (kt CO2)', 'Mid-year Population (thousands)']]"
   ]
  },
  {
   "cell_type": "code",
   "execution_count": 14,
   "metadata": {},
   "outputs": [],
   "source": [
    "df_co2 = df_co2[2014 <= df_co2['Calendar Year']]"
   ]
  },
  {
   "cell_type": "code",
   "execution_count": 15,
   "metadata": {},
   "outputs": [],
   "source": [
    "# Map the C02 onto avon\n",
    "mapped = avon_df[avon_df['lsoa_name'].isin(df_co2['Local Authority'].unique())]"
   ]
  },
  {
   "cell_type": "code",
   "execution_count": 16,
   "metadata": {},
   "outputs": [],
   "source": [
    "## Set the lengths to the same size"
   ]
  },
  {
   "cell_type": "code",
   "execution_count": 17,
   "metadata": {},
   "outputs": [],
   "source": [
    "## lst of Local authorities\n",
    "las = df_co2['Local Authority'].unique()"
   ]
  },
  {
   "cell_type": "code",
   "execution_count": 18,
   "metadata": {},
   "outputs": [],
   "source": [
    "# pollution = [sum(df_co2.loc[(df_co2['Calendar Year'] == i)]['Territorial emissions (kt CO2)']) for i in range(2014, 2020)]\n",
    "bath_pol = [sum((df_co2.loc[(df_co2['Calendar Year'] == i) & (df_co2['Local Authority'] == 'Bath and North East Somerset')])['Territorial emissions (kt CO2)']) for i in range(2014, 2020)]\n"
   ]
  },
  {
   "cell_type": "code",
   "execution_count": 19,
   "metadata": {},
   "outputs": [],
   "source": [
    "### Pollution\n",
    "\n",
    "bath_pol = [sum((df_co2.loc[(df_co2['Calendar Year'] == i) & (df_co2['Local Authority'] == 'Bath and North East Somerset')])['Territorial emissions (kt CO2)']) for i in range(2014, 2020)]\n",
    "bris_pol = [sum((df_co2.loc[(df_co2['Calendar Year'] == i) & (df_co2['Local Authority'] == 'Bristol, City of')])['Territorial emissions (kt CO2)']) for i in range(2014, 2020)]\n",
    "north_pol = [sum((df_co2.loc[(df_co2['Calendar Year'] == i) & (df_co2['Local Authority'] == 'North Somerset')])['Territorial emissions (kt CO2)']) for i in range(2014, 2020)]\n",
    "south_pol = [sum((df_co2.loc[(df_co2['Calendar Year'] == i) & (df_co2['Local Authority'] == 'South Gloucestershire')])['Territorial emissions (kt CO2)']) for i in range(2014, 2020)]\n",
    "plymouth_pol = [sum((df_co2.loc[(df_co2['Calendar Year'] == i) & (df_co2['Local Authority'] == 'Plymouth')])['Territorial emissions (kt CO2)']) for i in range(2014, 2020)]\n",
    "torbay_pol = [sum((df_co2.loc[(df_co2['Calendar Year'] == i) & (df_co2['Local Authority'] == 'Torbay')])['Territorial emissions (kt CO2)']) for i in range(2014, 2020)]\n",
    "swid_pol = [sum((df_co2.loc[(df_co2['Calendar Year'] == i) & (df_co2['Local Authority'] == 'Swindon')])['Territorial emissions (kt CO2)']) for i in range(2014, 2020)]\n",
    "corn_pol = [sum((df_co2.loc[(df_co2['Calendar Year'] == i) & (df_co2['Local Authority'] == 'Cornwall')])['Territorial emissions (kt CO2)']) for i in range(2014, 2020)]\n",
    "isle_pol = [sum((df_co2.loc[(df_co2['Calendar Year'] == i) & (df_co2['Local Authority'] == 'Isles of Scilly')])['Territorial emissions (kt CO2)']) for i in range(2014, 2020)]\n",
    "wilt_pol = [sum((df_co2.loc[(df_co2['Calendar Year'] == i) & (df_co2['Local Authority'] == 'Wiltshire')])['Territorial emissions (kt CO2)']) for i in range(2014, 2020)]\n",
    "\n",
    "# bourn_pol = [sum((df_co2.loc[(df_co2['Calendar Year'] == i) & (df_co2['Local Authority'] == 'Bath and North East Somerset')])['Territorial emissions (kt CO2)']) for i in range(2014, 2020)]\n",
    "chirch_pol = [sum((df_co2.loc[(df_co2['Calendar Year'] == i) & (df_co2['Local Authority'] == 'Bournemouth, Christchurch and Poole')])['Territorial emissions (kt CO2)']) for i in range(2014, 2020)]\n",
    "dorse_pol = [sum((df_co2.loc[(df_co2['Calendar Year'] == i) & (df_co2['Local Authority'] == 'Dorset')])['Territorial emissions (kt CO2)']) for i in range(2014, 2020)]\n",
    "east_pol = [sum((df_co2.loc[(df_co2['Calendar Year'] == i) & (df_co2['Local Authority'] == 'East Devon')])['Territorial emissions (kt CO2)']) for i in range(2014, 2020)]\n",
    "\n",
    "\n",
    "\n",
    "exter_pol = [sum((df_co2.loc[(df_co2['Calendar Year'] == i) & (df_co2['Local Authority'] == 'Exeter')])['Territorial emissions (kt CO2)']) for i in range(2014, 2020)]\n",
    "mid_pol = [sum((df_co2.loc[(df_co2['Calendar Year'] == i) & (df_co2['Local Authority'] == 'Mid Devon')])['Territorial emissions (kt CO2)']) for i in range(2014, 2020)]\n",
    "devon_pol = [sum((df_co2.loc[(df_co2['Calendar Year'] == i) & (df_co2['Local Authority'] == 'North Devon')])['Territorial emissions (kt CO2)']) for i in range(2014, 2020)]\n",
    "hams_pol = [sum((df_co2.loc[(df_co2['Calendar Year'] == i) & (df_co2['Local Authority'] == 'South Hams')])['Territorial emissions (kt CO2)']) for i in range(2014, 2020)]\n",
    "     \n",
    "tei_pol = [sum((df_co2.loc[(df_co2['Calendar Year'] == i) & (df_co2['Local Authority'] == 'Teignbridge')])['Territorial emissions (kt CO2)']) for i in range(2014, 2020)]\n",
    "torrige_pol = [sum((df_co2.loc[(df_co2['Calendar Year'] == i) & (df_co2['Local Authority'] == 'Torridge')])['Territorial emissions (kt CO2)']) for i in range(2014, 2020)]\n",
    "westdev_pol = [sum((df_co2.loc[(df_co2['Calendar Year'] == i) & (df_co2['Local Authority'] == 'West Devon')])['Territorial emissions (kt CO2)']) for i in range(2014, 2020)]\n",
    "chel_pol = [sum((df_co2.loc[(df_co2['Calendar Year'] == i) & (df_co2['Local Authority'] == 'Cheltenham')])['Territorial emissions (kt CO2)']) for i in range(2014, 2020)]\n",
    "cot_pol = [sum((df_co2.loc[(df_co2['Calendar Year'] == i) & (df_co2['Local Authority'] == 'Cotswold')])['Territorial emissions (kt CO2)']) for i in range(2014, 2020)]\n",
    "\n",
    "forrest_pol = [sum((df_co2.loc[(df_co2['Calendar Year'] == i) & (df_co2['Local Authority'] == 'Forest of Dean')])['Territorial emissions (kt CO2)']) for i in range(2014, 2020)]\n",
    "glouc_pol = [sum((df_co2.loc[(df_co2['Calendar Year'] == i) & (df_co2['Local Authority'] == 'Gloucester')])['Territorial emissions (kt CO2)']) for i in range(2014, 2020)]\n",
    "stroud_pol = [sum((df_co2.loc[(df_co2['Calendar Year'] == i) & (df_co2['Local Authority'] == 'Stroud')])['Territorial emissions (kt CO2)']) for i in range(2014, 2020)]\n",
    "tewkesbury_pol = [sum((df_co2.loc[(df_co2['Calendar Year'] == i) & (df_co2['Local Authority'] == 'Tewkesbury')])['Territorial emissions (kt CO2)']) for i in range(2014, 2020)]\n",
    "\n",
    "mendip_pol = [sum((df_co2.loc[(df_co2['Calendar Year'] == i) & (df_co2['Local Authority'] == 'Mendip')])['Territorial emissions (kt CO2)']) for i in range(2014, 2020)]\n",
    "sedgemoor_pol = [sum((df_co2.loc[(df_co2['Calendar Year'] == i) & (df_co2['Local Authority'] == 'Sedgemoor')])['Territorial emissions (kt CO2)']) for i in range(2014, 2020)]\n",
    "soutsomer_pol = [sum((df_co2.loc[(df_co2['Calendar Year'] == i) & (df_co2['Local Authority'] == 'South Somerset')])['Territorial emissions (kt CO2)']) for i in range(2014, 2020)]\n",
    "somer_taun_pol = [sum((df_co2.loc[(df_co2['Calendar Year'] == i) & (df_co2['Local Authority'] == 'Somerset West and Taunton')])['Territorial emissions (kt CO2)']) for i in range(2014, 2020)]\n",
    "\n"
   ]
  },
  {
   "cell_type": "code",
   "execution_count": 20,
   "metadata": {},
   "outputs": [],
   "source": [
    "pollutions = [bath_pol, bris_pol, north_pol, south_pol, plymouth_pol, torbay_pol, swid_pol, corn_pol, isle_pol, wilt_pol,\n",
    "             chirch_pol, dorse_pol, east_pol, exter_pol, mid_pol, devon_pol, hams_pol, tei_pol, torrige_pol, westdev_pol, \n",
    "            chel_pol, cot_pol, forrest_pol, glouc_pol, stroud_pol, tewkesbury_pol, mendip_pol, sedgemoor_pol, soutsomer_pol,\n",
    "             somer_taun_pol]\n",
    "dictionary = dict(zip(las, pollutions))"
   ]
  },
  {
   "cell_type": "code",
   "execution_count": 21,
   "metadata": {},
   "outputs": [],
   "source": [
    "## population\n",
    "\n",
    "bath_pol = [sum((df_co2.loc[(df_co2['Calendar Year'] == i) & (df_co2['Local Authority'] == 'Bath and North East Somerset')])['Mid-year Population (thousands)']) for i in range(2014, 2020)]\n",
    "bris_pol = [sum((df_co2.loc[(df_co2['Calendar Year'] == i) & (df_co2['Local Authority'] == 'Bristol, City of')])['Mid-year Population (thousands)']) for i in range(2014, 2020)]\n",
    "north_pol = [sum((df_co2.loc[(df_co2['Calendar Year'] == i) & (df_co2['Local Authority'] == 'North Somerset')])['Mid-year Population (thousands)']) for i in range(2014, 2020)]\n",
    "south_pol = [sum((df_co2.loc[(df_co2['Calendar Year'] == i) & (df_co2['Local Authority'] == 'South Gloucestershire')])['Mid-year Population (thousands)']) for i in range(2014, 2020)]\n",
    "plymouth_pol = [sum((df_co2.loc[(df_co2['Calendar Year'] == i) & (df_co2['Local Authority'] == 'Plymouth')])['Mid-year Population (thousands)']) for i in range(2014, 2020)]\n",
    "torbay_pol = [sum((df_co2.loc[(df_co2['Calendar Year'] == i) & (df_co2['Local Authority'] == 'Torbay')])['Mid-year Population (thousands)']) for i in range(2014, 2020)]\n",
    "swid_pol = [sum((df_co2.loc[(df_co2['Calendar Year'] == i) & (df_co2['Local Authority'] == 'Swindon')])['Mid-year Population (thousands)']) for i in range(2014, 2020)]\n",
    "corn_pol = [sum((df_co2.loc[(df_co2['Calendar Year'] == i) & (df_co2['Local Authority'] == 'Cornwall')])['Mid-year Population (thousands)']) for i in range(2014, 2020)]\n",
    "isle_pol = [sum((df_co2.loc[(df_co2['Calendar Year'] == i) & (df_co2['Local Authority'] == 'Isles of Scilly')])['Mid-year Population (thousands)']) for i in range(2014, 2020)]\n",
    "wilt_pol = [sum((df_co2.loc[(df_co2['Calendar Year'] == i) & (df_co2['Local Authority'] == 'Wiltshire')])['Mid-year Population (thousands)']) for i in range(2014, 2020)]\n",
    "\n",
    "# bourn_pol = [sum((df_co2.loc[(df_co2['Calendar Year'] == i) & (df_co2['Local Authority'] == 'Bath and North East Somerset')])['Territorial emissions (kt CO2)']) for i in range(2014, 2020)]\n",
    "chirch_pol = [sum((df_co2.loc[(df_co2['Calendar Year'] == i) & (df_co2['Local Authority'] == 'Bournemouth, Christchurch and Poole')])['Mid-year Population (thousands)']) for i in range(2014, 2020)]\n",
    "dorse_pol = [sum((df_co2.loc[(df_co2['Calendar Year'] == i) & (df_co2['Local Authority'] == 'Dorset')])['Mid-year Population (thousands)']) for i in range(2014, 2020)]\n",
    "east_pol = [sum((df_co2.loc[(df_co2['Calendar Year'] == i) & (df_co2['Local Authority'] == 'East Devon')])['Mid-year Population (thousands)']) for i in range(2014, 2020)]\n",
    "\n",
    "exter_pol = [sum((df_co2.loc[(df_co2['Calendar Year'] == i) & (df_co2['Local Authority'] == 'Exeter')])['Mid-year Population (thousands)']) for i in range(2014, 2020)]\n",
    "mid_pol = [sum((df_co2.loc[(df_co2['Calendar Year'] == i) & (df_co2['Local Authority'] == 'Mid Devon')])['Mid-year Population (thousands)']) for i in range(2014, 2020)]\n",
    "devon_pol = [sum((df_co2.loc[(df_co2['Calendar Year'] == i) & (df_co2['Local Authority'] == 'North Devon')])['Mid-year Population (thousands)']) for i in range(2014, 2020)]\n",
    "hams_pol = [sum((df_co2.loc[(df_co2['Calendar Year'] == i) & (df_co2['Local Authority'] == 'South Hams')])['Mid-year Population (thousands)']) for i in range(2014, 2020)]\n",
    "     \n",
    "tei_pol = [sum((df_co2.loc[(df_co2['Calendar Year'] == i) & (df_co2['Local Authority'] == 'Teignbridge')])['Mid-year Population (thousands)']) for i in range(2014, 2020)]\n",
    "torrige_pol = [sum((df_co2.loc[(df_co2['Calendar Year'] == i) & (df_co2['Local Authority'] == 'Torridge')])['Mid-year Population (thousands)']) for i in range(2014, 2020)]\n",
    "westdev_pol = [sum((df_co2.loc[(df_co2['Calendar Year'] == i) & (df_co2['Local Authority'] == 'West Devon')])['Mid-year Population (thousands)']) for i in range(2014, 2020)]\n",
    "chel_pol = [sum((df_co2.loc[(df_co2['Calendar Year'] == i) & (df_co2['Local Authority'] == 'Cheltenham')])['Mid-year Population (thousands)']) for i in range(2014, 2020)]\n",
    "cot_pol = [sum((df_co2.loc[(df_co2['Calendar Year'] == i) & (df_co2['Local Authority'] == 'Cotswold')])['Mid-year Population (thousands)']) for i in range(2014, 2020)]\n",
    "\n",
    "forrest_pol = [sum((df_co2.loc[(df_co2['Calendar Year'] == i) & (df_co2['Local Authority'] == 'Forest of Dean')])['Mid-year Population (thousands)']) for i in range(2014, 2020)]\n",
    "glouc_pol = [sum((df_co2.loc[(df_co2['Calendar Year'] == i) & (df_co2['Local Authority'] == 'Gloucester')])['Mid-year Population (thousands)']) for i in range(2014, 2020)]\n",
    "stroud_pol = [sum((df_co2.loc[(df_co2['Calendar Year'] == i) & (df_co2['Local Authority'] == 'Stroud')])['Mid-year Population (thousands)']) for i in range(2014, 2020)]\n",
    "tewkesbury_pol = [sum((df_co2.loc[(df_co2['Calendar Year'] == i) & (df_co2['Local Authority'] == 'Tewkesbury')])['Mid-year Population (thousands)']) for i in range(2014, 2020)]\n",
    "\n",
    "mendip_pol = [sum((df_co2.loc[(df_co2['Calendar Year'] == i) & (df_co2['Local Authority'] == 'Mendip')])['Mid-year Population (thousands)']) for i in range(2014, 2020)]\n",
    "sedgemoor_pol = [sum((df_co2.loc[(df_co2['Calendar Year'] == i) & (df_co2['Local Authority'] == 'Sedgemoor')])['Mid-year Population (thousands)']) for i in range(2014, 2020)]\n",
    "soutsomer_pol = [sum((df_co2.loc[(df_co2['Calendar Year'] == i) & (df_co2['Local Authority'] == 'South Somerset')])['Mid-year Population (thousands)']) for i in range(2014, 2020)]\n",
    "somer_taun_pol = [sum((df_co2.loc[(df_co2['Calendar Year'] == i) & (df_co2['Local Authority'] == 'Somerset West and Taunton')])['Mid-year Population (thousands)']) for i in range(2014, 2020)]\n"
   ]
  },
  {
   "cell_type": "code",
   "execution_count": 22,
   "metadata": {},
   "outputs": [],
   "source": [
    "population = [bath_pol, bris_pol, north_pol, south_pol, plymouth_pol, torbay_pol, swid_pol, corn_pol, isle_pol, wilt_pol,\n",
    "             chirch_pol, dorse_pol, east_pol, exter_pol, mid_pol, devon_pol, hams_pol, tei_pol, torrige_pol, westdev_pol, \n",
    "            chel_pol, cot_pol, forrest_pol, glouc_pol, stroud_pol, tewkesbury_pol, mendip_pol, sedgemoor_pol, soutsomer_pol,\n",
    "             somer_taun_pol]\n",
    "dictionary = dict(zip(las, population))\n"
   ]
  },
  {
   "cell_type": "code",
   "execution_count": 23,
   "metadata": {},
   "outputs": [],
   "source": [
    "df_2014 = avon_df.loc[avon_df['Month'] == 2014]"
   ]
  },
  {
   "cell_type": "code",
   "execution_count": 24,
   "metadata": {},
   "outputs": [],
   "source": [
    "co2_2014 = df_co2.loc[df_co2['Calendar Year'] == 2014]"
   ]
  },
  {
   "cell_type": "code",
   "execution_count": 25,
   "metadata": {},
   "outputs": [],
   "source": [
    "def pollution_dates(region, year):\n",
    "    dataframe_year =  mapped.loc[mapped['Month'] == year]\n",
    "    df_region = dataframe_year.loc[dataframe_year['lsoa_name'] == region]\n",
    "    \n",
    "    if year == 2014:\n",
    "        df_region['pollution'] = dictionary[region][0]\n",
    "    elif year == 2015:\n",
    "        df_region['pollution'] = dictionary[region][1]\n",
    "    elif year == 2016:\n",
    "        df_region['pollution'] = dictionary[region][2]\n",
    "    elif year == 2017:\n",
    "        df_region['pollution'] = dictionary[region][3]\n",
    "    elif year == 2018:\n",
    "        df_region['pollution'] = dictionary[region][4]\n",
    "    else:\n",
    "        df_region['pollution'] = dictionary[region][5]\n",
    "        \n",
    "    return df_region"
   ]
  },
  {
   "cell_type": "code",
   "execution_count": 26,
   "metadata": {},
   "outputs": [],
   "source": [
    "def population_dates(region, year):\n",
    "    dataframe_year =  mapped.loc[mapped['Month'] == year]\n",
    "    df_region = dataframe_year.loc[dataframe_year['lsoa_name'] == region]\n",
    "    \n",
    "    if year == 2014:\n",
    "        df_region['population'] = dictionary[region][0]\n",
    "    elif year == 2015:\n",
    "        df_region['population'] = dictionary[region][1]\n",
    "    elif year == 2016:\n",
    "        df_region['population'] = dictionary[region][2]\n",
    "    elif year == 2017:\n",
    "        df_region['population'] = dictionary[region][3]\n",
    "    elif year == 2018:\n",
    "        df_region['population'] = dictionary[region][4]\n",
    "    else:\n",
    "        df_region['population'] = dictionary[region][5]\n",
    "        \n",
    "    return df_region"
   ]
  },
  {
   "cell_type": "code",
   "execution_count": 27,
   "metadata": {},
   "outputs": [
    {
     "name": "stderr",
     "output_type": "stream",
     "text": [
      "<ipython-input-25-81a40ba84fcf>:6: SettingWithCopyWarning: \n",
      "A value is trying to be set on a copy of a slice from a DataFrame.\n",
      "Try using .loc[row_indexer,col_indexer] = value instead\n",
      "\n",
      "See the caveats in the documentation: https://pandas.pydata.org/pandas-docs/stable/user_guide/indexing.html#returning-a-view-versus-a-copy\n",
      "  df_region['pollution'] = dictionary[region][0]\n",
      "<ipython-input-25-81a40ba84fcf>:8: SettingWithCopyWarning: \n",
      "A value is trying to be set on a copy of a slice from a DataFrame.\n",
      "Try using .loc[row_indexer,col_indexer] = value instead\n",
      "\n",
      "See the caveats in the documentation: https://pandas.pydata.org/pandas-docs/stable/user_guide/indexing.html#returning-a-view-versus-a-copy\n",
      "  df_region['pollution'] = dictionary[region][1]\n",
      "<ipython-input-25-81a40ba84fcf>:10: SettingWithCopyWarning: \n",
      "A value is trying to be set on a copy of a slice from a DataFrame.\n",
      "Try using .loc[row_indexer,col_indexer] = value instead\n",
      "\n",
      "See the caveats in the documentation: https://pandas.pydata.org/pandas-docs/stable/user_guide/indexing.html#returning-a-view-versus-a-copy\n",
      "  df_region['pollution'] = dictionary[region][2]\n",
      "<ipython-input-25-81a40ba84fcf>:12: SettingWithCopyWarning: \n",
      "A value is trying to be set on a copy of a slice from a DataFrame.\n",
      "Try using .loc[row_indexer,col_indexer] = value instead\n",
      "\n",
      "See the caveats in the documentation: https://pandas.pydata.org/pandas-docs/stable/user_guide/indexing.html#returning-a-view-versus-a-copy\n",
      "  df_region['pollution'] = dictionary[region][3]\n",
      "<ipython-input-25-81a40ba84fcf>:14: SettingWithCopyWarning: \n",
      "A value is trying to be set on a copy of a slice from a DataFrame.\n",
      "Try using .loc[row_indexer,col_indexer] = value instead\n",
      "\n",
      "See the caveats in the documentation: https://pandas.pydata.org/pandas-docs/stable/user_guide/indexing.html#returning-a-view-versus-a-copy\n",
      "  df_region['pollution'] = dictionary[region][4]\n",
      "<ipython-input-25-81a40ba84fcf>:16: SettingWithCopyWarning: \n",
      "A value is trying to be set on a copy of a slice from a DataFrame.\n",
      "Try using .loc[row_indexer,col_indexer] = value instead\n",
      "\n",
      "See the caveats in the documentation: https://pandas.pydata.org/pandas-docs/stable/user_guide/indexing.html#returning-a-view-versus-a-copy\n",
      "  df_region['pollution'] = dictionary[region][5]\n"
     ]
    }
   ],
   "source": [
    "## pollution\n",
    "\n",
    "bath = [(pollution_dates('Bath and North East Somerset', i)) for i in range(2014, 2020)]\n",
    "bristol = [(pollution_dates('Bristol, City of', i)) for i in range(2014, 2020)]\n",
    "north_som = [(pollution_dates('North Somerset', i)) for i in range(2014, 2020)] \n",
    "\n",
    "south_glou = [(pollution_dates('South Gloucestershire', i)) for i in range(2014, 2020)]\n",
    "ply = [(pollution_dates('Plymouth', i)) for i in range(2014, 2020)]\n",
    "torbay = [(pollution_dates('Torbay', i)) for i in range(2014, 2020)] \n",
    "\n",
    "swindon = [(pollution_dates('Swindon', i)) for i in range(2014, 2020)]\n",
    "cornwal = [(pollution_dates('Cornwall', i)) for i in range(2014, 2020)]\n",
    "isle = [(pollution_dates('Isles of Scilly', i)) for i in range(2014, 2020)] \n",
    "\n",
    "wilt = [(pollution_dates('Wiltshire', i)) for i in range(2014, 2020)]\n",
    "bouhem = [(pollution_dates('Bournemouth, Christchurch and Poole', i)) for i in range(2014, 2020)]\n",
    "dorse = [(pollution_dates('Dorset', i)) for i in range(2014, 2020)] \n",
    "\n",
    "east_dev = [(pollution_dates('East Devon', i)) for i in range(2014, 2020)]\n",
    "exeter = [(pollution_dates('Exeter', i)) for i in range(2014, 2020)]\n",
    "mid = [(pollution_dates('Mid Devon', i)) for i in range(2014, 2020)] \n",
    "\n",
    "north_dev = [(pollution_dates('North Devon', i)) for i in range(2014, 2020)]\n",
    "south_ham = [(pollution_dates('South Hams', i)) for i in range(2014, 2020)]\n",
    "teign = [(pollution_dates('Teignbridge', i)) for i in range(2014, 2020)] \n",
    "\n",
    "torr = [(pollution_dates('Torridge', i)) for i in range(2014, 2020)]\n",
    "west_dev = [(pollution_dates('West Devon', i)) for i in range(2014, 2020)]\n",
    "chelten = [(pollution_dates('Cheltenham', i)) for i in range(2014, 2020)] \n",
    "\n",
    "cotsw = [(pollution_dates('Cotswold', i)) for i in range(2014, 2020)]\n",
    "forest = [(pollution_dates('Forest of Dean', i)) for i in range(2014, 2020)]\n",
    "gloucester = [(pollution_dates('Gloucester', i)) for i in range(2014, 2020)] \n",
    "\n",
    "stroud = [(pollution_dates('Stroud', i)) for i in range(2014, 2020)]\n",
    "tewkes = [(pollution_dates('Tewkesbury', i)) for i in range(2014, 2020)]\n",
    "mendip = [(pollution_dates('Mendip', i)) for i in range(2014, 2020)]\n",
    "\n",
    "sedgem = [(pollution_dates('Sedgemoor', i)) for i in range(2014, 2020)]\n",
    "south_somer = [(pollution_dates('South Somerset', i)) for i in range(2014, 2020)]\n",
    "somerset_west = [(pollution_dates('Somerset West and Taunton', i)) for i in range(2014, 2020)] \n",
    "\n"
   ]
  },
  {
   "cell_type": "code",
   "execution_count": 28,
   "metadata": {},
   "outputs": [
    {
     "name": "stderr",
     "output_type": "stream",
     "text": [
      "<ipython-input-26-599438bb6a23>:6: SettingWithCopyWarning: \n",
      "A value is trying to be set on a copy of a slice from a DataFrame.\n",
      "Try using .loc[row_indexer,col_indexer] = value instead\n",
      "\n",
      "See the caveats in the documentation: https://pandas.pydata.org/pandas-docs/stable/user_guide/indexing.html#returning-a-view-versus-a-copy\n",
      "  df_region['population'] = dictionary[region][0]\n",
      "<ipython-input-26-599438bb6a23>:8: SettingWithCopyWarning: \n",
      "A value is trying to be set on a copy of a slice from a DataFrame.\n",
      "Try using .loc[row_indexer,col_indexer] = value instead\n",
      "\n",
      "See the caveats in the documentation: https://pandas.pydata.org/pandas-docs/stable/user_guide/indexing.html#returning-a-view-versus-a-copy\n",
      "  df_region['population'] = dictionary[region][1]\n",
      "<ipython-input-26-599438bb6a23>:10: SettingWithCopyWarning: \n",
      "A value is trying to be set on a copy of a slice from a DataFrame.\n",
      "Try using .loc[row_indexer,col_indexer] = value instead\n",
      "\n",
      "See the caveats in the documentation: https://pandas.pydata.org/pandas-docs/stable/user_guide/indexing.html#returning-a-view-versus-a-copy\n",
      "  df_region['population'] = dictionary[region][2]\n",
      "<ipython-input-26-599438bb6a23>:12: SettingWithCopyWarning: \n",
      "A value is trying to be set on a copy of a slice from a DataFrame.\n",
      "Try using .loc[row_indexer,col_indexer] = value instead\n",
      "\n",
      "See the caveats in the documentation: https://pandas.pydata.org/pandas-docs/stable/user_guide/indexing.html#returning-a-view-versus-a-copy\n",
      "  df_region['population'] = dictionary[region][3]\n",
      "<ipython-input-26-599438bb6a23>:14: SettingWithCopyWarning: \n",
      "A value is trying to be set on a copy of a slice from a DataFrame.\n",
      "Try using .loc[row_indexer,col_indexer] = value instead\n",
      "\n",
      "See the caveats in the documentation: https://pandas.pydata.org/pandas-docs/stable/user_guide/indexing.html#returning-a-view-versus-a-copy\n",
      "  df_region['population'] = dictionary[region][4]\n",
      "<ipython-input-26-599438bb6a23>:16: SettingWithCopyWarning: \n",
      "A value is trying to be set on a copy of a slice from a DataFrame.\n",
      "Try using .loc[row_indexer,col_indexer] = value instead\n",
      "\n",
      "See the caveats in the documentation: https://pandas.pydata.org/pandas-docs/stable/user_guide/indexing.html#returning-a-view-versus-a-copy\n",
      "  df_region['population'] = dictionary[region][5]\n"
     ]
    }
   ],
   "source": [
    "## population\n",
    "## pollution\n",
    "\n",
    "bath = [(population_dates('Bath and North East Somerset', i)) for i in range(2014, 2020)]\n",
    "bristol = [(population_dates('Bristol, City of', i)) for i in range(2014, 2020)]\n",
    "north_som = [(population_dates('North Somerset', i)) for i in range(2014, 2020)] \n",
    "\n",
    "south_glou = [(population_dates('South Gloucestershire', i)) for i in range(2014, 2020)]\n",
    "ply = [(population_dates('Plymouth', i)) for i in range(2014, 2020)]\n",
    "torbay = [(population_dates('Torbay', i)) for i in range(2014, 2020)] \n",
    "\n",
    "swindon = [(population_dates('Swindon', i)) for i in range(2014, 2020)]\n",
    "cornwal = [(population_dates('Cornwall', i)) for i in range(2014, 2020)]\n",
    "isle = [(population_dates('Isles of Scilly', i)) for i in range(2014, 2020)] \n",
    "\n",
    "wilt = [(population_dates('Wiltshire', i)) for i in range(2014, 2020)]\n",
    "bouhem = [(population_dates('Bournemouth, Christchurch and Poole', i)) for i in range(2014, 2020)]\n",
    "dorse = [(population_dates('Dorset', i)) for i in range(2014, 2020)] \n",
    "\n",
    "east_dev = [(population_dates('East Devon', i)) for i in range(2014, 2020)]\n",
    "exeter = [(population_dates('Exeter', i)) for i in range(2014, 2020)]\n",
    "mid = [(population_dates('Mid Devon', i)) for i in range(2014, 2020)] \n",
    "\n",
    "north_dev = [(population_dates('North Devon', i)) for i in range(2014, 2020)]\n",
    "south_ham = [(population_dates('South Hams', i)) for i in range(2014, 2020)]\n",
    "teign = [(population_dates('Teignbridge', i)) for i in range(2014, 2020)] \n",
    "\n",
    "torr = [(population_dates('Torridge', i)) for i in range(2014, 2020)]\n",
    "west_dev = [(population_dates('West Devon', i)) for i in range(2014, 2020)]\n",
    "chelten = [(population_dates('Cheltenham', i)) for i in range(2014, 2020)] \n",
    "\n",
    "cotsw = [(population_dates('Cotswold', i)) for i in range(2014, 2020)]\n",
    "forest = [(population_dates('Forest of Dean', i)) for i in range(2014, 2020)]\n",
    "gloucester = [(population_dates('Gloucester', i)) for i in range(2014, 2020)] \n",
    "\n",
    "stroud = [(population_dates('Stroud', i)) for i in range(2014, 2020)]\n",
    "tewkes = [(population_dates('Tewkesbury', i)) for i in range(2014, 2020)]\n",
    "mendip = [(population_dates('Mendip', i)) for i in range(2014, 2020)]\n",
    "\n",
    "sedgem = [(population_dates('Sedgemoor', i)) for i in range(2014, 2020)]\n",
    "south_somer = [(population_dates('South Somerset', i)) for i in range(2014, 2020)]\n",
    "somerset_west = [(population_dates('Somerset West and Taunton', i)) for i in range(2014, 2020)] \n"
   ]
  },
  {
   "cell_type": "code",
   "execution_count": 29,
   "metadata": {},
   "outputs": [],
   "source": [
    "# list(set(mapped['lsoa_name'].unique()) - set(avon_df['lsoa_name'].unique()))\n",
    "\n",
    "lst_pdf = [bath, bristol, north_som, south_glou, ply, torbay, swindon, cornwal, isle,\n",
    "wilt, bouhem, dorse, east_dev, exeter, mid, north_dev, south_ham, teign,\n",
    "torr, west_dev, chelten, cotsw, forest, gloucester, stroud, tewkes,\n",
    "mendip, sedgem, south_somer, somerset_west]\n"
   ]
  },
  {
   "cell_type": "code",
   "execution_count": 30,
   "metadata": {},
   "outputs": [],
   "source": [
    "pollution = pd.concat([pd.concat(i) for i in lst_pdf])"
   ]
  },
  {
   "cell_type": "code",
   "execution_count": 31,
   "metadata": {},
   "outputs": [],
   "source": [
    "lst_pdf = [bath, bristol, north_som, south_glou, ply, torbay, swindon, cornwal, isle,\n",
    "wilt, bouhem, dorse, east_dev, exeter, mid, north_dev, south_ham, teign,\n",
    "torr, west_dev, chelten, cotsw, forest, gloucester, stroud, tewkes,\n",
    "mendip, sedgem, south_somer, somerset_west]"
   ]
  },
  {
   "cell_type": "code",
   "execution_count": 32,
   "metadata": {},
   "outputs": [],
   "source": [
    "population = pd.concat([pd.concat(i) for i in lst_pdf])"
   ]
  },
  {
   "cell_type": "code",
   "execution_count": 33,
   "metadata": {},
   "outputs": [],
   "source": [
    "# (bbb)\n",
    "# (pd.concat(bbb))\n",
    "pollution['population'] = population['population']"
   ]
  },
  {
   "cell_type": "code",
   "execution_count": 34,
   "metadata": {},
   "outputs": [],
   "source": [
    "## Send data to csv to merge with other dataframes\n",
    "\n",
    "pollution.to_csv('pollution_merged.csv', encoding='utf-8', index=False)"
   ]
  },
  {
   "cell_type": "code",
   "execution_count": 35,
   "metadata": {},
   "outputs": [],
   "source": [
    "roads = pd.read_csv('roads.csv')"
   ]
  },
  {
   "cell_type": "code",
   "execution_count": 36,
   "metadata": {},
   "outputs": [],
   "source": [
    "final = pd.read_csv('merged_pol_2.csv')"
   ]
  },
  {
   "cell_type": "code",
   "execution_count": 37,
   "metadata": {},
   "outputs": [],
   "source": [
    "\n",
    "roads_df = roads[roads['lsoa_of_accident_location'].isin(final['LSOA_code'])]"
   ]
  },
  {
   "cell_type": "code",
   "execution_count": 38,
   "metadata": {},
   "outputs": [],
   "source": [
    "## keep only needed lsoas\n",
    "# for elements in lst1 keep only if in lst2\n",
    "\n",
    "codes = [value for value in roads_df['lsoa_of_accident_location'].values if value in final['LSOA_code'].values]"
   ]
  },
  {
   "cell_type": "code",
   "execution_count": 39,
   "metadata": {},
   "outputs": [],
   "source": [
    "roads_df = roads[roads['lsoa_of_accident_location'].isin(codes)]"
   ]
  },
  {
   "cell_type": "code",
   "execution_count": 40,
   "metadata": {},
   "outputs": [],
   "source": [
    "road_final = final[final['LSOA_code'].isin(roads_df['lsoa_of_accident_location'])]"
   ]
  },
  {
   "cell_type": "code",
   "execution_count": 41,
   "metadata": {},
   "outputs": [
    {
     "name": "stderr",
     "output_type": "stream",
     "text": [
      "<ipython-input-41-d7714660ff43>:3: SettingWithCopyWarning: \n",
      "A value is trying to be set on a copy of a slice from a DataFrame.\n",
      "Try using .loc[row_indexer,col_indexer] = value instead\n",
      "\n",
      "See the caveats in the documentation: https://pandas.pydata.org/pandas-docs/stable/user_guide/indexing.html#returning-a-view-versus-a-copy\n",
      "  roads_df['LSOA_code'] = roads_df['lsoa_of_accident_location']\n"
     ]
    }
   ],
   "source": [
    "# sort based on final\n",
    "\n",
    "roads_df['LSOA_code'] = roads_df['lsoa_of_accident_location']\n",
    "\n",
    "# pd.Categorical(\n",
    "#     roads_df['lsoa_of_accident_location'], \n",
    "#     categories=road_final['LSOA_code'].unique(), \n",
    "#     ordered=True\n",
    "# )"
   ]
  },
  {
   "cell_type": "code",
   "execution_count": 42,
   "metadata": {},
   "outputs": [],
   "source": [
    "## Merge\n",
    "## years\n",
    "lst_2020 = []\n",
    "lst_2019 = []\n",
    "lst_2018 = []\n",
    "\n",
    "lst_2017 = []\n",
    "lst_2016 = []\n",
    "lst_2015 = []\n",
    "\n",
    "lst_2014 = []\n",
    "lst_2013 = []\n",
    "lst_2012 = []\n",
    "\n",
    "lst_2010 = []\n",
    "lst_20 = []\n",
    "\n",
    "\n",
    "for i in range(0, len(roads_df)):\n",
    "    if roads_df['accident_year'].iloc[i] == 2020:\n",
    "        lst_2020.append(roads_df.iloc[i])\n",
    "        \n",
    "    elif roads_df['accident_year'].iloc[i] == 2019:\n",
    "        lst_2019.append(roads_df.iloc[i])\n",
    "    \n",
    "    elif roads_df['accident_year'].iloc[i] == 2018:\n",
    "        lst_2018.append(roads_df.iloc[i])\n",
    "    \n",
    "    elif roads_df['accident_year'].iloc[i] == 2017:\n",
    "        lst_2017.append(roads_df.iloc[i])\n",
    "        \n",
    "    elif roads_df['accident_year'].iloc[i] == 2016:\n",
    "        lst_2016.append(roads_df.iloc[i])\n",
    "        \n",
    "    elif roads_df['accident_year'].iloc[i] == 2015:\n",
    "        lst_2015.append(roads_df.iloc[i])\n",
    "        \n",
    "    elif roads_df['accident_year'].iloc[i] == 2014:\n",
    "        lst_2014.append(roads_df.iloc[i])\n",
    "        \n",
    "    elif roads_df['accident_year'].iloc[i] == 2013:\n",
    "        lst_2013.append(roads_df.iloc[i])\n",
    "        \n",
    "    elif roads_df['accident_year'].iloc[i] == 2012:\n",
    "        lst_2020.append(roads_df.iloc[i])\n",
    "        \n",
    "    elif roads_df['accident_year'].iloc[i] == 2010:\n",
    "        lst_2012.append(roads_df.iloc[i])\n",
    "        \n",
    "    else:\n",
    "        lst_20.append('none')\n",
    "        "
   ]
  },
  {
   "cell_type": "code",
   "execution_count": 43,
   "metadata": {},
   "outputs": [],
   "source": [
    "years_lst = lst_2020 + lst_2018 + lst_2017 + lst_2016 + lst_2015 + lst_2014 + lst_2013 + lst_2012 +lst_2010 + lst_20"
   ]
  },
  {
   "cell_type": "code",
   "execution_count": 44,
   "metadata": {},
   "outputs": [],
   "source": [
    "road_2020 = (pd.DataFrame(lst_2020)).merge(final, on='LSOA_code')"
   ]
  },
  {
   "cell_type": "code",
   "execution_count": 45,
   "metadata": {},
   "outputs": [],
   "source": [
    "income = pd.read_csv('df_income.csv')"
   ]
  },
  {
   "cell_type": "code",
   "execution_count": 46,
   "metadata": {},
   "outputs": [],
   "source": [
    "income = income.drop(['2', '3', '4', '5', '6', '7', '8', '9', '10', '11', '12',\n",
    "                     '13', '14'], axis=1)"
   ]
  },
  {
   "cell_type": "code",
   "execution_count": 47,
   "metadata": {},
   "outputs": [],
   "source": [
    "west_region = income.iloc[8] ## corresponds to our region"
   ]
  },
  {
   "cell_type": "code",
   "execution_count": 48,
   "metadata": {},
   "outputs": [],
   "source": [
    "income_lst = []\n",
    "\n",
    "for i in final['year']:\n",
    "    if i == 2010:\n",
    "        income_lst.append(west_region[2])\n",
    "    elif i == 2012:\n",
    "        income_lst.append(west_region[3])\n",
    "    elif i == 2013:\n",
    "        income_lst.append(west_region[4])\n",
    "    elif i == 2015:\n",
    "        income_lst.append(west_region[5])\n",
    "        \n",
    "    elif i == 2016:\n",
    "        income_lst.append(west_region[6])\n",
    "        \n",
    "    elif i == 2017:\n",
    "        income_lst.append(west_region[7])\n",
    "        \n",
    "    elif i == 2018:\n",
    "        income_lst.append(west_region[8])\n",
    "        \n",
    "    elif i == 2019:\n",
    "        income_lst.append(west_region[9])\n",
    "        \n",
    "    elif i == 2020:\n",
    "        income_lst.append(west_region[10])\n",
    "    else:\n",
    "        income_lst.append('none')\n",
    "                \n",
    "        "
   ]
  },
  {
   "cell_type": "code",
   "execution_count": 49,
   "metadata": {},
   "outputs": [],
   "source": [
    "final['income'] = income_lst"
   ]
  },
  {
   "cell_type": "code",
   "execution_count": 50,
   "metadata": {},
   "outputs": [],
   "source": [
    "import statistics as st\n",
    "median_value = st.median(final['income'].unique()[1:])"
   ]
  },
  {
   "cell_type": "code",
   "execution_count": 51,
   "metadata": {},
   "outputs": [],
   "source": [
    "## Fixing columns setting to median\n",
    "updated_income = []\n",
    "for i in final['income']:\n",
    "    if i == 'none':\n",
    "        updated_income.append(median_value)\n",
    "    else:\n",
    "        updated_income.append(i)"
   ]
  },
  {
   "cell_type": "code",
   "execution_count": 52,
   "metadata": {},
   "outputs": [],
   "source": [
    "final['updated_income'] = updated_income"
   ]
  },
  {
   "cell_type": "code",
   "execution_count": 53,
   "metadata": {},
   "outputs": [],
   "source": [
    "final['without'] = [int(i) if i != 'none' else i for i in final['without']]\n",
    "final['gcse'] = [int(i) if i != 'none' else i for i in final['gcse']]\n",
    "final['gcs_a'] = [int(i) if i != 'none' else i for i in final['gcs_a']]\n",
    "final['degree'] = [int(i) if i != 'none' else i for i in final['degree']]\n",
    "\n",
    "# [f(x) if condition else g(x) for x in sequence]\n"
   ]
  },
  {
   "cell_type": "code",
   "execution_count": 54,
   "metadata": {},
   "outputs": [],
   "source": [
    "without = list(final['without'].unique()[:])\n",
    "without.remove('none')\n",
    "\n",
    "gcse = list(final['gcse'].unique()[:])\n",
    "gcse.remove('none')\n",
    "\n",
    "gcs_a = list(final['gcs_a'].unique()[:])\n",
    "gcs_a.remove('none')\n",
    "\n",
    "degree = list(final['degree'].unique()[:])\n",
    "degree.remove('none')"
   ]
  },
  {
   "cell_type": "code",
   "execution_count": 55,
   "metadata": {},
   "outputs": [],
   "source": [
    "median_value_1 = st.median(without)\n",
    "median_value_2 = st.median(gcse)\n",
    "median_value_3 = st.median(gcs_a)\n",
    "median_value_4 = st.median(degree)"
   ]
  },
  {
   "cell_type": "code",
   "execution_count": 56,
   "metadata": {},
   "outputs": [],
   "source": [
    "## Fixing columns setting to median\n",
    "updated_without = []\n",
    "for i in final['without']:\n",
    "    if i == 'none':\n",
    "        updated_without.append(median_value_1)\n",
    "    else:\n",
    "        updated_without.append(i)\n",
    "        \n",
    "updated_gcse = []\n",
    "for i in final['gcse']:\n",
    "    if i == 'none':\n",
    "        updated_gcse.append(median_value_2)\n",
    "    else:\n",
    "        updated_gcse.append(i)\n",
    "        \n",
    "        \n",
    "updated_gcs_a = []\n",
    "for i in final['gcs_a']:\n",
    "    if i == 'none':\n",
    "        updated_gcs_a.append(median_value_3)\n",
    "    else:\n",
    "        updated_gcs_a.append(i)\n",
    "        \n",
    "updated_degree = []\n",
    "for i in final['degree']:\n",
    "    if i == 'none':\n",
    "        updated_degree.append(median_value_4)\n",
    "    else:\n",
    "        updated_degree.append(i)"
   ]
  },
  {
   "cell_type": "code",
   "execution_count": 62,
   "metadata": {},
   "outputs": [],
   "source": [
    "final['updated_without'] = updated_without\n",
    "final['updated_gcse'] = updated_gcse\n",
    "final['updated_gcs_a'] = updated_gcs_a\n",
    "final['updated_degree'] = updated_degree"
   ]
  },
  {
   "cell_type": "code",
   "execution_count": 78,
   "metadata": {},
   "outputs": [],
   "source": [
    "final_grouped = final.groupby(['class']).mean(['updated_without','updated_gcse',  'updated_gcs_a',\n",
    "                                               'updated_degree', 'updated_income', 'pollution', 'population'])"
   ]
  },
  {
   "cell_type": "code",
   "execution_count": 80,
   "metadata": {},
   "outputs": [],
   "source": [
    "\n",
    "model = Lasso(alpha=1.0)\n",
    "\n",
    "X = final_grouped[['pollution', 'population', 'updated_income','updated_gcs_a', 'updated_gcse',\n",
    "                   'updated_without','updated_degree']]\n",
    "y = final['class'].value_counts()\n",
    "\n",
    "cv = RepeatedKFold(n_splits=50, n_repeats=10, random_state=8)\n",
    "scores = cross_val_score(model, X, y, scoring='neg_mean_absolute_error', cv=cv, n_jobs=-1)\n"
   ]
  },
  {
   "cell_type": "code",
   "execution_count": 74,
   "metadata": {},
   "outputs": [
    {
     "name": "stdout",
     "output_type": "stream",
     "text": [
      "Mean MAE: 2397.276 (5034.458)\n"
     ]
    }
   ],
   "source": [
    "scores = absolute(scores)\n",
    "\n",
    "print('Mean MAE: %.3f (%.3f)' % (mean(scores)/57, std(scores)/56))"
   ]
  },
  {
   "cell_type": "code",
   "execution_count": 67,
   "metadata": {},
   "outputs": [],
   "source": [
    "from sklearn.linear_model import LinearRegression, Lasso, Ridge\n",
    "from sklearn.preprocessing import StandardScaler\n",
    "from sklearn.model_selection import train_test_split\n",
    "from yellowbrick.regressor import PredictionError, ResidualsPlot\n",
    "import pandas as pd"
   ]
  },
  {
   "cell_type": "code",
   "execution_count": 87,
   "metadata": {},
   "outputs": [],
   "source": [
    "from sklearn.model_selection import train_test_split\n",
    "from sklearn.linear_model import Lasso, LogisticRegression\n",
    "from sklearn.feature_selection import SelectFromModel"
   ]
  },
  {
   "cell_type": "code",
   "execution_count": 93,
   "metadata": {},
   "outputs": [],
   "source": [
    "sel_ = SelectFromModel(LogisticRegression(C=1, penalty='l1', solver='liblinear'))\n",
    "sel_.fit(X, np.ravel(y,order='C'))\n",
    "sel_.get_support()\n",
    "X = pd.DataFrame(X)"
   ]
  },
  {
   "cell_type": "code",
   "execution_count": 97,
   "metadata": {},
   "outputs": [
    {
     "name": "stdout",
     "output_type": "stream",
     "text": [
      "total features: 7\n",
      "selected features: 7\n",
      "features with coefficients shrank to zero: 328\n"
     ]
    }
   ],
   "source": [
    "selected_feat = X.columns[(sel_.get_support())]\n",
    "print('total features: {}'.format((X.shape[1])))\n",
    "print('selected features: {}'.format(len(selected_feat)))\n",
    "print('features with coefficients shrank to zero: {}'.format(np.sum(sel_.estimator_.coef_ == 0)))"
   ]
  },
  {
   "cell_type": "code",
   "execution_count": 91,
   "metadata": {},
   "outputs": [],
   "source": [
    "scaler = StandardScaler()\n",
    "scaler.fit(X)\n",
    "X = scaler.transform(X)\n",
    "#Splitting the data\n",
    "X_train, X_test, y_train, y_test = train_test_split(X, y, test_size=0.3, random_state=101)"
   ]
  },
  {
   "cell_type": "code",
   "execution_count": 76,
   "metadata": {},
   "outputs": [
    {
     "data": {
      "image/png": "[encoded data removed]",
      "text/plain": [
       "<Figure size 576x396 with 1 Axes>"
      ]
     },
     "metadata": {},
     "output_type": "display_data"
    },
    {
     "data": {
      "text/plain": [
       "<AxesSubplot:title={'center':'Prediction Error for Lasso'}, xlabel='$y$', ylabel='$\\\\hat{y}$'>"
      ]
     },
     "execution_count": 76,
     "metadata": {},
     "output_type": "execute_result"
    }
   ],
   "source": [
    "model2 = Lasso()\n",
    "visualizer = PredictionError(model2)\n",
    "visualizer.fit(X_train, y_train)  \n",
    "visualizer.score(X_test, y_test)  \n",
    "visualizer.poof()"
   ]
  },
  {
   "cell_type": "code",
   "execution_count": 77,
   "metadata": {},
   "outputs": [
    {
     "data": {
      "image/png": "[encoded data removed]",
      "text/plain": [
       "<Figure size 576x396 with 2 Axes>"
      ]
     },
     "metadata": {},
     "output_type": "display_data"
    },
    {
     "data": {
      "text/plain": [
       "<AxesSubplot:title={'center':'Residuals for Lasso Model'}, xlabel='Predicted Value', ylabel='Residuals'>"
      ]
     },
     "execution_count": 77,
     "metadata": {},
     "output_type": "execute_result"
    }
   ],
   "source": [
    "model2 = Lasso()\n",
    "visualizer = ResidualsPlot(model2)\n",
    "visualizer.fit(X_train, y_train)  \n",
    "visualizer.score(X_test, y_test)  \n",
    "visualizer.poof()"
   ]
  },
  {
   "cell_type": "code",
   "execution_count": null,
   "metadata": {},
   "outputs": [],
   "source": [
    "dunno = df_2014.loc[df_2014['lsoa_name'] == 'Bath and North East Somerset']\n",
    "dunno['pollution']  = dictionary['Bath and North East Somerset'][0]"
   ]
  },
  {
   "cell_type": "code",
   "execution_count": null,
   "metadata": {},
   "outputs": [],
   "source": [
    "df_2015 = avon_df.loc[avon_df['Month'] == 2015]\n",
    "dunno_1 = df_2015.loc[df_2015['lsoa_name'] == 'Bath and North East Somerset']\n",
    "dunno_1['pollution']  = dictionary['Bath and North East Somerset'][1]"
   ]
  }
 ],
 "metadata": {
  "kernelspec": {
   "display_name": "Python 3",
   "language": "python",
   "name": "python3"
  },
  "language_info": {
   "codemirror_mode": {
    "name": "ipython",
    "version": 3
   },
   "file_extension": ".py",
   "mimetype": "text/x-python",
   "name": "python",
   "nbconvert_exporter": "python",
   "pygments_lexer": "ipython3",
   "version": "3.8.5"
  }
 },
 "nbformat": 4,
 "nbformat_minor": 4
}
